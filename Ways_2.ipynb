{
 "cells": [
  {
   "cell_type": "code",
   "execution_count": 1,
   "metadata": {},
   "outputs": [],
   "source": [
    "#import tool and information\n",
    "import sys\n",
    "import pandas as pd\n",
    "import numpy as np\n",
    "import random as rd\n",
    "import matplotlib.pyplot as plt"
   ]
  },
  {
   "cell_type": "code",
   "execution_count": 2,
   "metadata": {},
   "outputs": [],
   "source": [
    "from scipy.stats import norm"
   ]
  },
  {
   "cell_type": "code",
   "execution_count": 3,
   "metadata": {},
   "outputs": [],
   "source": [
    "import math"
   ]
  },
  {
   "cell_type": "code",
   "execution_count": 4,
   "metadata": {},
   "outputs": [],
   "source": [
    "data = pd.read_csv('./slot.csv', encoding = 'big5')"
   ]
  },
  {
   "cell_type": "code",
   "execution_count": 5,
   "metadata": {},
   "outputs": [
    {
     "data": {
      "text/plain": [
       "[['D', 'E', 'B', 'E', 'A'],\n",
       " ['B', 'F', 'D', 'F', 'E'],\n",
       " ['A', 'B', 'A', 'B', 'C'],\n",
       " ['A', 'B', 'A', 'B', 'C'],\n",
       " ['A', 'F', 'D', 'F', 'E'],\n",
       " ['E', 'W', 'W', 'W', 'W'],\n",
       " ['E', 'A', 'C', 'A', 'F'],\n",
       " ['D', 'B', 'A', 'B', 'C'],\n",
       " ['E', 'C', 'F', 'C', 'D'],\n",
       " ['B', 'D', 'E', 'D', 'B'],\n",
       " ['B', 'E', 'B', 'E', 'A'],\n",
       " ['B', 'F', 'D', 'F', 'E'],\n",
       " ['C', 'C', 'F', 'C', 'D'],\n",
       " ['F', 'B', 'W', 'B', 'C'],\n",
       " ['F', 'A', 'C', 'A', 'F'],\n",
       " ['F', 'A', 'C', 'A', 'F'],\n",
       " ['A', 'E', 'B', 'E', 'W'],\n",
       " ['C', 'D', 'E', 'D', 'B'],\n",
       " ['C', 'F', 'D', 'F', 'E'],\n",
       " ['C', 'F', 'D', 'F', 'E'],\n",
       " ['F', 'E', 'B', 'E', 'A'],\n",
       " ['F', 'E', 'B', 'E', 'A'],\n",
       " ['D', 'A', 'C', 'A', 'F'],\n",
       " ['D', 'D', 'E', 'D', 'B'],\n",
       " ['D', 'D', 'E', 'D', 'B'],\n",
       " ['C', 'E', 'B', 'E', 'A'],\n",
       " ['F', 'F', 'D', 'F', 'E'],\n",
       " ['E', 'D', 'E', 'D', 'B'],\n",
       " ['E', 'C', 'F', 'C', 'D'],\n",
       " ['E', 'C', 'F', 'C', 'D'],\n",
       " ['D', 'E', 'B', 'E', 'A'],\n",
       " ['B', 'F', 'D', 'F', 'E']]"
      ]
     },
     "execution_count": 5,
     "metadata": {},
     "output_type": "execute_result"
    }
   ],
   "source": [
    "data = data.to_numpy().tolist()\n",
    "data"
   ]
  },
  {
   "cell_type": "code",
   "execution_count": 14,
   "metadata": {},
   "outputs": [
    {
     "data": {
      "text/plain": [
       "1"
      ]
     },
     "execution_count": 14,
     "metadata": {},
     "output_type": "execute_result"
    }
   ],
   "source": [
    "notdouble = [1,1,1,1,1]\n",
    "2 ** (1-notdouble[1]*notdouble[2])"
   ]
  },
  {
   "cell_type": "code",
   "execution_count": 25,
   "metadata": {},
   "outputs": [],
   "source": [
    "def getAprize(s):\n",
    "    prize = 0\n",
    "    count = [0,0,0,0,0]\n",
    "    notdouble = [1,1,1,1,1]\n",
    "    for row in range(0,5,1):\n",
    "        if s[0][row] == 'A' or s[0][row] == 'W':\n",
    "            count[row] += 1\n",
    "        if s[1][row] == 'A' or s[1][row] == 'W':\n",
    "            count[row] += 1\n",
    "        if s[2][row] == 'A' or s[2][row] == 'W':\n",
    "            count[row] += 1\n",
    "        if s[0][row] == 'W' or s[1][row] == 'W' or s[2][row] == 'W':\n",
    "            notdouble[row] = 0\n",
    "    prize = max(prize,\n",
    "                count[0]*count[1]*count[2]*(2 ** (1-notdouble[0]*notdouble[1]*notdouble[2]))*80,\n",
    "                count[1]*count[2]*count[3]*(2 ** (1-notdouble[1]*notdouble[2]*notdouble[3]))*80,\n",
    "                count[2]*count[3]*count[4]*(2 ** (1-notdouble[2]*notdouble[3]*notdouble[4]))*80,\n",
    "                count[0]*count[1]*count[2]*count[3]*(2 ** (1-notdouble[0]*notdouble[1]*notdouble[2]*notdouble[3]))*320,\n",
    "                count[1]*count[2]*count[3]*count[4]*(2 ** (1-notdouble[1]*notdouble[2]*notdouble[3]*notdouble[4]))*320,\n",
    "                count[0]*count[1]*count[2]*count[3]*count[4]*(2 ** (1-notdouble[0]*notdouble[1]*notdouble[2]*notdouble[3]*notdouble[4]))*2000)\n",
    "    return prize\n",
    "def getBprize(s):\n",
    "    prize = 0\n",
    "    count = [0,0,0,0,0]\n",
    "    notdouble = [1,1,1,1,1]\n",
    "    for row in range(0,5,1):\n",
    "        if s[0][row] == 'B' or s[0][row] == 'W':\n",
    "            count[row] += 1\n",
    "        if s[1][row] == 'B' or s[1][row] == 'W':\n",
    "            count[row] += 1\n",
    "        if s[2][row] == 'B' or s[2][row] == 'W':\n",
    "            count[row] += 1\n",
    "        if s[0][row] == 'W' or s[1][row] == 'W' or s[2][row] == 'W':\n",
    "            notdouble[row] = 0\n",
    "    prize = max(prize,\n",
    "                count[0]*count[1]*count[2]*(2 ** (1-notdouble[0]*notdouble[1]*notdouble[2]))*60,\n",
    "                count[1]*count[2]*count[3]*(2 ** (1-notdouble[1]*notdouble[2]*notdouble[3]))*60,\n",
    "                count[2]*count[3]*count[4]*(2 ** (1-notdouble[2]*notdouble[3]*notdouble[4]))*60,\n",
    "                count[0]*count[1]*count[2]*count[3]*(2 ** (1-notdouble[0]*notdouble[1]*notdouble[2]*notdouble[3]))*240,\n",
    "                count[1]*count[2]*count[3]*count[4]*(2 ** (1-notdouble[1]*notdouble[2]*notdouble[3]*notdouble[4]))*240,\n",
    "                count[0]*count[1]*count[2]*count[3]*count[4]*(2 ** (1-notdouble[0]*notdouble[1]*notdouble[2]*notdouble[3]*notdouble[4]))*1500)\n",
    "    return prize\n",
    "def getCprize(s):\n",
    "    prize = 0\n",
    "    count = [0,0,0,0,0]\n",
    "    notdouble = [1,1,1,1,1]\n",
    "    for row in range(0,5,1):\n",
    "        if s[0][row] == 'C' or s[0][row] == 'W':\n",
    "            count[row] += 1\n",
    "        if s[1][row] == 'C' or s[1][row] == 'W':\n",
    "            count[row] += 1\n",
    "        if s[2][row] == 'C' or s[2][row] == 'W':\n",
    "            count[row] += 1\n",
    "        if s[0][row] == 'W' or s[1][row] == 'W' or s[2][row] == 'W':\n",
    "            notdouble[row] = 0\n",
    "    prize = max(prize,\n",
    "                count[0]*count[1]*count[2]*(2 ** (1-notdouble[0]*notdouble[1]*notdouble[2]))*40,\n",
    "                count[1]*count[2]*count[3]*(2 ** (1-notdouble[1]*notdouble[2]*notdouble[3]))*40,\n",
    "                count[2]*count[3]*count[4]*(2 ** (1-notdouble[2]*notdouble[3]*notdouble[4]))*40,\n",
    "                count[0]*count[1]*count[2]*count[3]*(2 ** (1-notdouble[0]*notdouble[1]*notdouble[2]*notdouble[3]))*160,\n",
    "                count[1]*count[2]*count[3]*count[4]*(2 ** (1-notdouble[1]*notdouble[2]*notdouble[3]*notdouble[4]))*160,\n",
    "                count[0]*count[1]*count[2]*count[3]*count[4]*(2 ** (1-notdouble[0]*notdouble[1]*notdouble[2]*notdouble[3]*notdouble[4]))*1000)\n",
    "    return prize\n",
    "def getDprize(s):\n",
    "    prize = 0\n",
    "    count = [0,0,0,0,0]\n",
    "    notdouble = [1,1,1,1,1]\n",
    "    for row in range(0,5,1):\n",
    "        if s[0][row] == 'D' or s[0][row] == 'W':\n",
    "            count[row] += 1\n",
    "        if s[1][row] == 'D' or s[1][row] == 'W':\n",
    "            count[row] += 1\n",
    "        if s[2][row] == 'D' or s[2][row] == 'W':\n",
    "            count[row] += 1\n",
    "        if s[0][row] == 'W' or s[1][row] == 'W' or s[2][row] == 'W':\n",
    "            notdouble[row] = 0\n",
    "    prize = max(prize,\n",
    "                count[0]*count[1]*count[2]*(2 ** (1-notdouble[0]*notdouble[1]*notdouble[2]))*20,\n",
    "                count[1]*count[2]*count[3]*(2 ** (1-notdouble[1]*notdouble[2]*notdouble[3]))*20,\n",
    "                count[2]*count[3]*count[4]*(2 ** (1-notdouble[2]*notdouble[3]*notdouble[4]))*20,\n",
    "                count[0]*count[1]*count[2]*count[3]*(2 ** (1-notdouble[0]*notdouble[1]*notdouble[2]*notdouble[3]))*80,\n",
    "                count[1]*count[2]*count[3]*count[4]*(2 ** (1-notdouble[1]*notdouble[2]*notdouble[3]*notdouble[4]))*80,\n",
    "                count[0]*count[1]*count[2]*count[3]*count[4]*(2 ** (1-notdouble[0]*notdouble[1]*notdouble[2]*notdouble[3]*notdouble[4]))*800)\n",
    "    return prize\n",
    "def getEprize(s):\n",
    "    prize = 0\n",
    "    count = [0,0,0,0,0]\n",
    "    notdouble = [1,1,1,1,1]\n",
    "    for row in range(0,5,1):\n",
    "        if s[0][row] == 'E' or s[0][row] == 'W':\n",
    "            count[row] += 1\n",
    "        if s[1][row] == 'E' or s[1][row] == 'W':\n",
    "            count[row] += 1\n",
    "        if s[2][row] == 'E' or s[2][row] == 'W':\n",
    "            count[row] += 1\n",
    "        if s[0][row] == 'W' or s[1][row] == 'W' or s[2][row] == 'W':\n",
    "            notdouble[row] = 0\n",
    "    prize = max(prize,\n",
    "                count[0]*count[1]*count[2]*(2 ** (1-notdouble[0]*notdouble[1]*notdouble[2]))*10,\n",
    "                count[1]*count[2]*count[3]*(2 ** (1-notdouble[1]*notdouble[2]*notdouble[3]))*10,\n",
    "                count[2]*count[3]*count[4]*(2 ** (1-notdouble[2]*notdouble[3]*notdouble[4]))*10,\n",
    "                count[0]*count[1]*count[2]*count[3]*(2 ** (1-notdouble[0]*notdouble[1]*notdouble[2]*notdouble[3]))*40,\n",
    "                count[1]*count[2]*count[3]*count[4]*(2 ** (1-notdouble[1]*notdouble[2]*notdouble[3]*notdouble[4]))*40,\n",
    "                count[0]*count[1]*count[2]*count[3]*count[4]*(2 ** (1-notdouble[0]*notdouble[1]*notdouble[2]*notdouble[3]*notdouble[4]))*500)\n",
    "    return prize\n",
    "def getFprize(s):\n",
    "    prize = 0\n",
    "    count = [0,0,0,0,0]\n",
    "    notdouble = [1,1,1,1,1]\n",
    "    for row in range(0,5,1):\n",
    "        if s[0][row] == 'F' or s[0][row] == 'W':\n",
    "            count[row] += 1\n",
    "        if s[1][row] == 'F' or s[1][row] == 'W':\n",
    "            count[row] += 1\n",
    "        if s[2][row] == 'F' or s[2][row] == 'W':\n",
    "            count[row] += 1\n",
    "        if s[0][row] == 'W' or s[1][row] == 'W' or s[2][row] == 'W':\n",
    "            notdouble[row] = 0\n",
    "    prize = max(prize,\n",
    "                count[0]*count[1]*count[2]*(2 ** (1-notdouble[0]*notdouble[1]*notdouble[2]))*10,\n",
    "                count[1]*count[2]*count[3]*(2 ** (1-notdouble[1]*notdouble[2]*notdouble[3]))*10,\n",
    "                count[2]*count[3]*count[4]*(2 ** (1-notdouble[2]*notdouble[3]*notdouble[4]))*10,\n",
    "                count[0]*count[1]*count[2]*count[3]*(2 ** (1-notdouble[0]*notdouble[1]*notdouble[2]*notdouble[3]))*40,\n",
    "                count[1]*count[2]*count[3]*count[4]*(2 ** (1-notdouble[1]*notdouble[2]*notdouble[3]*notdouble[4]))*40,\n",
    "                count[0]*count[1]*count[2]*count[3]*count[4]*(2 ** (1-notdouble[0]*notdouble[1]*notdouble[2]*notdouble[3]*notdouble[4]))*500) \n",
    "    return prize"
   ]
  },
  {
   "cell_type": "code",
   "execution_count": 31,
   "metadata": {},
   "outputs": [
    {
     "name": "stdout",
     "output_type": "stream",
     "text": [
      "8000 240 640 0 0 40\n"
     ]
    }
   ],
   "source": [
    "test = [['F', 'W', 'F', 'A', 'D'],\n",
    "        ['A', 'A', 'W', 'B', 'A'],\n",
    "        ['C', 'B', 'C', 'C', 'E']]\n",
    "print(getAprize(test),getBprize(test),getCprize(test),getDprize(test),getEprize(test),getFprize(test))"
   ]
  },
  {
   "cell_type": "code",
   "execution_count": 32,
   "metadata": {},
   "outputs": [
    {
     "name": "stdout",
     "output_type": "stream",
     "text": [
      "0\n",
      "1\n",
      "2\n",
      "3\n",
      "4\n",
      "5\n",
      "6\n",
      "7\n",
      "8\n",
      "9\n",
      "10\n",
      "11\n",
      "12\n",
      "13\n",
      "14\n",
      "15\n",
      "16\n",
      "17\n",
      "18\n",
      "19\n",
      "20\n",
      "21\n",
      "22\n",
      "23\n",
      "24\n",
      "25\n",
      "26\n",
      "27\n",
      "28\n",
      "29\n",
      "24511981340\n"
     ]
    }
   ],
   "source": [
    "total=0\n",
    "for i in range(0,30,1):\n",
    "    for j in range(0,30,1):\n",
    "        for k in range(0,30,1):\n",
    "            for l in range(0,30,1):\n",
    "                for m in range(0,30,1):\n",
    "                    stat = [[data[i][0],data[j][1],data[k][2],data[l][3],data[m][4]],\n",
    "                            [data[i+1][0],data[j+1][1],data[k+1][2],data[l+1][3],data[m+1][4]],\n",
    "                            [data[i+2][0],data[j+2][1],data[k+2][2],data[l+2][3],data[m+2][4]]]\n",
    "                    total += getAprize(stat) + getBprize(stat) + getCprize(stat) + getDprize(stat) + getEprize(stat) + getFprize(stat)\n",
    "    print(i)\n",
    "print(total)"
   ]
  },
  {
   "cell_type": "code",
   "execution_count": 8,
   "metadata": {},
   "outputs": [],
   "source": [
    "Wprize=[0,0,0,100,400,3000]\n",
    "Aprize=[0,0,0,80,320,2000]\n",
    "Bprize=[0,0,0,60,240,1500]\n",
    "Cprize=[0,0,0,40,160,1000]\n",
    "Dprize=[0,0,0,20,80,800]\n",
    "Eprize=[0,0,0,10,40,500]\n",
    "Fprize=[0,0,0,10,40,500]"
   ]
  },
  {
   "cell_type": "code",
   "execution_count": 33,
   "metadata": {},
   "outputs": [
    {
     "data": {
      "text/plain": [
       "1008.7235119341564"
      ]
     },
     "execution_count": 33,
     "metadata": {},
     "output_type": "execute_result"
    }
   ],
   "source": [
    "total/24300000"
   ]
  }
 ],
 "metadata": {
  "kernelspec": {
   "display_name": "Python 3",
   "language": "python",
   "name": "python3"
  },
  "language_info": {
   "codemirror_mode": {
    "name": "ipython",
    "version": 3
   },
   "file_extension": ".py",
   "mimetype": "text/x-python",
   "name": "python",
   "nbconvert_exporter": "python",
   "pygments_lexer": "ipython3",
   "version": "3.8.8"
  }
 },
 "nbformat": 4,
 "nbformat_minor": 2
}
