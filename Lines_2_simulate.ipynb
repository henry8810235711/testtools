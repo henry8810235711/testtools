{
 "cells": [
  {
   "cell_type": "code",
   "execution_count": 1,
   "metadata": {},
   "outputs": [],
   "source": [
    "#import tool and information\n",
    "import sys\n",
    "import pandas as pd\n",
    "import numpy as np\n",
    "import random as rd\n",
    "import matplotlib.pyplot as plt"
   ]
  },
  {
   "cell_type": "code",
   "execution_count": 2,
   "metadata": {},
   "outputs": [],
   "source": [
    "from scipy.stats import norm"
   ]
  },
  {
   "cell_type": "code",
   "execution_count": 3,
   "metadata": {},
   "outputs": [],
   "source": [
    "import math"
   ]
  },
  {
   "cell_type": "code",
   "execution_count": 4,
   "metadata": {},
   "outputs": [],
   "source": [
    "data = pd.read_csv('./slot2.csv', encoding = 'big5')"
   ]
  },
  {
   "cell_type": "code",
   "execution_count": 5,
   "metadata": {},
   "outputs": [
    {
     "data": {
      "text/plain": [
       "[['D', 'E', 'B', 'E', 'A'],\n",
       " ['W', 'F', 'D', 'F', 'E'],\n",
       " ['A', 'B', 'A', 'B', 'C'],\n",
       " ['A', 'B', 'A', 'B', 'C'],\n",
       " ['A', 'F', 'D', 'F', 'E'],\n",
       " ['E', 'W', 'W', 'W', 'W'],\n",
       " ['E', 'A', 'C', 'A', 'F'],\n",
       " ['F', 'B', 'A', 'B', 'C'],\n",
       " ['E', 'C', 'F', 'C', 'D'],\n",
       " ['B', 'D', 'E', 'D', 'B'],\n",
       " ['B', 'E', 'B', 'E', 'A'],\n",
       " ['B', 'F', 'D', 'F', 'E'],\n",
       " ['C', 'C', 'F', 'C', 'D'],\n",
       " ['F', 'B', 'W', 'B', 'C'],\n",
       " ['F', 'A', 'C', 'A', 'F'],\n",
       " ['F', 'A', 'C', 'A', 'F'],\n",
       " ['A', 'E', 'B', 'E', 'W'],\n",
       " ['C', 'D', 'E', 'D', 'B'],\n",
       " ['C', 'F', 'D', 'F', 'E'],\n",
       " ['C', 'F', 'D', 'F', 'E'],\n",
       " ['F', 'E', 'B', 'E', 'A'],\n",
       " ['F', 'E', 'B', 'E', 'A'],\n",
       " ['D', 'A', 'C', 'A', 'F'],\n",
       " ['D', 'D', 'E', 'D', 'B'],\n",
       " ['D', 'D', 'E', 'D', 'B'],\n",
       " ['W', 'E', 'B', 'E', 'A'],\n",
       " ['B', 'F', 'D', 'F', 'E'],\n",
       " ['E', 'D', 'E', 'D', 'B'],\n",
       " ['E', 'C', 'F', 'C', 'D'],\n",
       " ['E', 'C', 'F', 'C', 'D']]"
      ]
     },
     "execution_count": 5,
     "metadata": {},
     "output_type": "execute_result"
    }
   ],
   "source": [
    "data = data.to_numpy().tolist()\n",
    "data"
   ]
  },
  {
   "cell_type": "code",
   "execution_count": 6,
   "metadata": {},
   "outputs": [
    {
     "data": {
      "text/plain": [
       "1"
      ]
     },
     "execution_count": 6,
     "metadata": {},
     "output_type": "execute_result"
    }
   ],
   "source": [
    "notdouble = [1,1,1,1,1]\n",
    "2 ** (1-notdouble[1]*notdouble[2])"
   ]
  },
  {
   "cell_type": "code",
   "execution_count": 7,
   "metadata": {},
   "outputs": [],
   "source": [
    "def getWprize(s):\n",
    "    prize = 0\n",
    "    count = [0,0,0,0,0]\n",
    "    for row in range(0,5,1):\n",
    "        if s[row] == 'W':\n",
    "            count[row] = 1\n",
    "\n",
    "    prize = max(prize,\n",
    "                count[0]*count[1]*count[2]*2*100,\n",
    "                count[1]*count[2]*count[3]*2*100,\n",
    "                count[2]*count[3]*count[4]*2*100,\n",
    "                count[0]*count[1]*count[2]*count[3]*2*400,\n",
    "                count[1]*count[2]*count[3]*count[4]*2*400,\n",
    "                count[0]*count[1]*count[2]*count[3]*count[4]*2*3000)\n",
    "    return prize\n",
    "def getAprize(s):\n",
    "    prize = 0\n",
    "    count = [0,0,0,0,0]\n",
    "    notdouble = [1,1,1,1,1]\n",
    "    for row in range(0,5,1):\n",
    "        if s[row] == 'A' or s[row] == 'W':\n",
    "            count[row] = 1\n",
    "        if s[row] == 'W':\n",
    "            notdouble[row] = 0\n",
    "    prize = max(prize,\n",
    "                count[0]*count[1]*count[2]*(2 ** (1-notdouble[0]*notdouble[1]*notdouble[2]))*80,\n",
    "                count[1]*count[2]*count[3]*(2 ** (1-notdouble[1]*notdouble[2]*notdouble[3]))*80,\n",
    "                count[2]*count[3]*count[4]*(2 ** (1-notdouble[2]*notdouble[3]*notdouble[4]))*80,\n",
    "                count[0]*count[1]*count[2]*count[3]*(2 ** (1-notdouble[0]*notdouble[1]*notdouble[2]*notdouble[3]))*320,\n",
    "                count[1]*count[2]*count[3]*count[4]*(2 ** (1-notdouble[1]*notdouble[2]*notdouble[3]*notdouble[4]))*320,\n",
    "                count[0]*count[1]*count[2]*count[3]*count[4]*(2 ** (1-notdouble[0]*notdouble[1]*notdouble[2]*notdouble[3]*notdouble[4]))*2000)\n",
    "    return prize\n",
    "def getBprize(s):\n",
    "    prize = 0\n",
    "    count = [0,0,0,0,0]\n",
    "    notdouble = [1,1,1,1,1]\n",
    "    for row in range(0,5,1):\n",
    "        if s[row] == 'B' or s[row] == 'W':\n",
    "            count[row] = 1\n",
    "        if s[row] == 'W':\n",
    "            notdouble[row] = 0\n",
    "    prize = max(prize,\n",
    "                count[0]*count[1]*count[2]*(2 ** (1-notdouble[0]*notdouble[1]*notdouble[2]))*60,\n",
    "                count[1]*count[2]*count[3]*(2 ** (1-notdouble[1]*notdouble[2]*notdouble[3]))*60,\n",
    "                count[2]*count[3]*count[4]*(2 ** (1-notdouble[2]*notdouble[3]*notdouble[4]))*60,\n",
    "                count[0]*count[1]*count[2]*count[3]*(2 ** (1-notdouble[0]*notdouble[1]*notdouble[2]*notdouble[3]))*240,\n",
    "                count[1]*count[2]*count[3]*count[4]*(2 ** (1-notdouble[1]*notdouble[2]*notdouble[3]*notdouble[4]))*240,\n",
    "                count[0]*count[1]*count[2]*count[3]*count[4]*(2 ** (1-notdouble[0]*notdouble[1]*notdouble[2]*notdouble[3]*notdouble[4]))*1500)\n",
    "    return prize\n",
    "def getCprize(s):\n",
    "    prize = 0\n",
    "    count = [0,0,0,0,0]\n",
    "    notdouble = [1,1,1,1,1]\n",
    "    for row in range(0,5,1):\n",
    "        if s[row] == 'C' or s[row] == 'W':\n",
    "            count[row] = 1\n",
    "        if s[row] == 'W':\n",
    "            notdouble[row] = 0\n",
    "    prize = max(prize,\n",
    "                count[0]*count[1]*count[2]*(2 ** (1-notdouble[0]*notdouble[1]*notdouble[2]))*40,\n",
    "                count[1]*count[2]*count[3]*(2 ** (1-notdouble[1]*notdouble[2]*notdouble[3]))*40,\n",
    "                count[2]*count[3]*count[4]*(2 ** (1-notdouble[2]*notdouble[3]*notdouble[4]))*40,\n",
    "                count[0]*count[1]*count[2]*count[3]*(2 ** (1-notdouble[0]*notdouble[1]*notdouble[2]*notdouble[3]))*160,\n",
    "                count[1]*count[2]*count[3]*count[4]*(2 ** (1-notdouble[1]*notdouble[2]*notdouble[3]*notdouble[4]))*160,\n",
    "                count[0]*count[1]*count[2]*count[3]*count[4]*(2 ** (1-notdouble[0]*notdouble[1]*notdouble[2]*notdouble[3]*notdouble[4]))*1000)\n",
    "    return prize\n",
    "def getDprize(s):\n",
    "    prize = 0\n",
    "    count = [0,0,0,0,0]\n",
    "    notdouble = [1,1,1,1,1]\n",
    "    for row in range(0,5,1):\n",
    "        if s[row] == 'D' or s[row] == 'W':\n",
    "            count[row] = 1\n",
    "        if s[row] == 'W':\n",
    "            notdouble[row] = 0\n",
    "    prize = max(prize,\n",
    "                count[0]*count[1]*count[2]*(2 ** (1-notdouble[0]*notdouble[1]*notdouble[2]))*20,\n",
    "                count[1]*count[2]*count[3]*(2 ** (1-notdouble[1]*notdouble[2]*notdouble[3]))*20,\n",
    "                count[2]*count[3]*count[4]*(2 ** (1-notdouble[2]*notdouble[3]*notdouble[4]))*20,\n",
    "                count[0]*count[1]*count[2]*count[3]*(2 ** (1-notdouble[0]*notdouble[1]*notdouble[2]*notdouble[3]))*80,\n",
    "                count[1]*count[2]*count[3]*count[4]*(2 ** (1-notdouble[1]*notdouble[2]*notdouble[3]*notdouble[4]))*80,\n",
    "                count[0]*count[1]*count[2]*count[3]*count[4]*(2 ** (1-notdouble[0]*notdouble[1]*notdouble[2]*notdouble[3]*notdouble[4]))*800)\n",
    "    return prize\n",
    "def getEprize(s):\n",
    "    prize = 0\n",
    "    count = [0,0,0,0,0]\n",
    "    notdouble = [1,1,1,1,1]\n",
    "    for row in range(0,5,1):\n",
    "        if s[row] == 'E' or s[row] == 'W':\n",
    "            count[row] = 1\n",
    "        if s[row] == 'W':\n",
    "            notdouble[row] = 0\n",
    "    prize = max(prize,\n",
    "                count[0]*count[1]*count[2]*(2 ** (1-notdouble[0]*notdouble[1]*notdouble[2]))*10,\n",
    "                count[1]*count[2]*count[3]*(2 ** (1-notdouble[1]*notdouble[2]*notdouble[3]))*10,\n",
    "                count[2]*count[3]*count[4]*(2 ** (1-notdouble[2]*notdouble[3]*notdouble[4]))*10,\n",
    "                count[0]*count[1]*count[2]*count[3]*(2 ** (1-notdouble[0]*notdouble[1]*notdouble[2]*notdouble[3]))*40,\n",
    "                count[1]*count[2]*count[3]*count[4]*(2 ** (1-notdouble[1]*notdouble[2]*notdouble[3]*notdouble[4]))*40,\n",
    "                count[0]*count[1]*count[2]*count[3]*count[4]*(2 ** (1-notdouble[0]*notdouble[1]*notdouble[2]*notdouble[3]*notdouble[4]))*500)\n",
    "    return prize\n",
    "def getFprize(s):\n",
    "    prize = 0\n",
    "    count = [0,0,0,0,0]\n",
    "    notdouble = [1,1,1,1,1]\n",
    "    for row in range(0,5,1):\n",
    "        if s[row] == 'F' or s[row] == 'W':\n",
    "            count[row] = 1\n",
    "        if s[row] == 'W' or s[row] == 'W' or s[row] == 'W':\n",
    "            notdouble[row] = 0\n",
    "    prize = max(prize,\n",
    "                count[0]*count[1]*count[2]*(2 ** (1-notdouble[0]*notdouble[1]*notdouble[2]))*10,\n",
    "                count[1]*count[2]*count[3]*(2 ** (1-notdouble[1]*notdouble[2]*notdouble[3]))*10,\n",
    "                count[2]*count[3]*count[4]*(2 ** (1-notdouble[2]*notdouble[3]*notdouble[4]))*10,\n",
    "                count[0]*count[1]*count[2]*count[3]*(2 ** (1-notdouble[0]*notdouble[1]*notdouble[2]*notdouble[3]))*40,\n",
    "                count[1]*count[2]*count[3]*count[4]*(2 ** (1-notdouble[1]*notdouble[2]*notdouble[3]*notdouble[4]))*40,\n",
    "                count[0]*count[1]*count[2]*count[3]*count[4]*(2 ** (1-notdouble[0]*notdouble[1]*notdouble[2]*notdouble[3]*notdouble[4]))*500) \n",
    "    return prize"
   ]
  },
  {
   "cell_type": "code",
   "execution_count": 8,
   "metadata": {},
   "outputs": [
    {
     "name": "stdout",
     "output_type": "stream",
     "text": [
      "200 160 120 80 160 20 80\n"
     ]
    }
   ],
   "source": [
    "test = ['F', 'W', 'W', 'W', 'D']\n",
    "print(getWprize(test),getAprize(test),getBprize(test),getCprize(test),getDprize(test),getEprize(test),getFprize(test))"
   ]
  },
  {
   "cell_type": "code",
   "execution_count": 9,
   "metadata": {},
   "outputs": [
    {
     "name": "stdout",
     "output_type": "stream",
     "text": [
      "13.20548\n"
     ]
    }
   ],
   "source": [
    "total=0\n",
    "for t in range(0,1000000,1):    \n",
    "    i = rd.randint(0,29)\n",
    "    j = rd.randint(0,29)\n",
    "    k = rd.randint(0,29)\n",
    "    l = rd.randint(0,29)\n",
    "    m = rd.randint(0,29)\n",
    "    stat = [data[i][0],data[j][1],data[k][2],data[l][3],data[m][4]]\n",
    "    total += max(getWprize(stat), getAprize(stat), getBprize(stat), getCprize(stat), getDprize(stat), getEprize(stat), getFprize(stat))\n",
    "\n",
    "print(total/1000000)"
   ]
  },
  {
   "cell_type": "code",
   "execution_count": 10,
   "metadata": {},
   "outputs": [],
   "source": [
    "Wprize=[0,0,0,100,400,3000]\n",
    "Aprize=[0,0,0,80,320,2000]\n",
    "Bprize=[0,0,0,60,240,1500]\n",
    "Cprize=[0,0,0,40,160,1000]\n",
    "Dprize=[0,0,0,20,80,800]\n",
    "Eprize=[0,0,0,10,40,500]\n",
    "Fprize=[0,0,0,10,40,500]"
   ]
  }
 ],
 "metadata": {
  "kernelspec": {
   "display_name": "Python 3",
   "language": "python",
   "name": "python3"
  },
  "language_info": {
   "codemirror_mode": {
    "name": "ipython",
    "version": 3
   },
   "file_extension": ".py",
   "mimetype": "text/x-python",
   "name": "python",
   "nbconvert_exporter": "python",
   "pygments_lexer": "ipython3",
   "version": "3.8.8"
  }
 },
 "nbformat": 4,
 "nbformat_minor": 2
}
